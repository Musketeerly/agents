{
 "cells": [
  {
   "cell_type": "code",
   "execution_count": 78,
   "id": "12e0724f",
   "metadata": {},
   "outputs": [],
   "source": [
    "from dotenv import load_dotenv\n",
    "from agents import Agent, Runner, trace, SQLiteSession, function_tool\n",
    "import os\n",
    "from pypdf import PdfReader\n",
    "import gradio as gr\n",
    "import requests\n",
    "import agentops\n",
    "from pydantic import BaseModel\n",
    "from typing import Optional\n",
    "\n",
    "# Initialize with automatic trace creation (default)\n",
    "load_dotenv(override=True)\n",
    "agentops_api_key = os.getenv(\"AGENTOPS_API_KEY\")\n",
    "\n",
    "agentops.init(api_key=agentops_api_key, default_tags=[\"production\"])"
   ]
  },
  {
   "cell_type": "code",
   "execution_count": 55,
   "id": "aa347008",
   "metadata": {},
   "outputs": [],
   "source": [
    "session = SQLiteSession(\"user_123\", \"conversation.db\")\n",
    "await session.clear_session()"
   ]
  },
  {
   "cell_type": "code",
   "execution_count": 56,
   "id": "99b6a29e",
   "metadata": {},
   "outputs": [],
   "source": [
    "kb=\"\"\n",
    "reader= PdfReader(\"musketeerly_ai_knowledge_base.pdf\")\n",
    "for page in reader.pages:\n",
    "    kb +=page.extract_text()\n",
    "    "
   ]
  },
  {
   "cell_type": "code",
   "execution_count": 69,
   "id": "6191df69",
   "metadata": {},
   "outputs": [],
   "source": [
    "company_name= \"Musketeerly AI\"\n",
    "intent_classifier_instructions = f\"\"\"\n",
    "You are a classification agent for Musketeerly AI. Your task is to analyze customer message and answer according to the knowledge base and only withing the scope of the knowledge base\n",
    "You have the ability to update customer information, get customer informstion and return it to them and escalate requests as well\n",
    "Your Tools and how and when to use them: (This does not apply sequentially, follow them as they apply instead)\n",
    "1) You must make use the escalate_to_human tool only when it involves an order cancellation or a refund, an order id only is needed for order cancellation while an email and reason is needed for a refund(you must include the users email in the push notification, you must not send the push notification if the email cant be found in the database).\n",
    "2) You must make use of the get_customer_info tool when the customer asks for retrieval of information from the database, email only is needed for this,If an email cant be found on the database, you must tell the user it cant be found and suggest they double check or contact the company support email, You must only return a users information when they ask for it,if they provide a mail and do not specify what it is for then do not retrieve any information, ask for the purpose instead.\n",
    "3) You must make use the update_customer_by_email tool when the customer wants to update their information, an email as well as the field and the value changes they want to be made to the must be required to make changes, example: 'I want to update my account name(field) to Kage first (Name field Value), my email is john@example.com(email needed for record identification).\n",
    "Follow these rules while you operate:\n",
    "-for the sake of safety, you must only return user information when the user explicitly states that they want to retrieve their information. If the user inputsn email withoout asking you explicitly to retrieve their information in their last text or in the same sentence do not retrieve it, ask a question instead to find out the purpose of the email.\n",
    "-order id should only be used for cancellations and never for refunds\n",
    "-Except the user has provided their email and reason in the last 5 texts always ask for the email and reason when requesting a refund\n",
    "- never try to initiate a refund using email and reason from memory\n",
    "- never use the customer id for a refund\n",
    "- if a user provides an email only and requests for a refund, you must ask for the reason.\n",
    "- Each time a request for information retrieval is made, you must use the get_customer_information tool, you must never retrieve the information from your memory\n",
    "- When an a request to update information is made you must use the update_customer_by email tool and never the get_customer_info tool\n",
    "Knowledge Base: {kb}\"\"\"\n",
    "\n",
    "\n",
    "\n"
   ]
  },
  {
   "cell_type": "code",
   "execution_count": 63,
   "id": "de1676e7",
   "metadata": {},
   "outputs": [],
   "source": [
    "pushover_user = os.getenv(\"PUSHOVER_USER\")\n",
    "pushover_token = os.getenv(\"PUSHOVER_TOKEN\")\n",
    "pushover_url = \"https://api.pushover.net/1/messages.json\"\n",
    "\n",
    "airtable_token= os.getenv(\"AIRTABLE_TOKEN\")\n",
    "table_name= os.getenv(\"TABLE_NAME\")\n",
    "base_id= os.getenv(\"BASE_ID\")\n",
    "\n",
    "AIRTABLE_URL = f\"https://api.airtable.com/v0/{base_id}/{table_name}\"\n",
    "HEADERS = {\n",
    "    \"Authorization\": f\"Bearer {airtable_token}\",\n",
    "    \"Content-Type\": \"application/json\"\n",
    "}\n"
   ]
  },
  {
   "cell_type": "code",
   "execution_count": 82,
   "id": "1e8d5e7e",
   "metadata": {},
   "outputs": [],
   "source": [
    "@function_tool\n",
    "def escalate_to_human(issue_summary:str):\n",
    "    \"\"\"Sends a Push Notification For escalation of issues.\"\"\"\n",
    "    payload = {\"user\": pushover_user, \"token\": pushover_token, \"message\": issue_summary}\n",
    "    requests.post(pushover_url, data=payload)\n",
    "\n",
    "\n",
    "\n",
    "# Tool 1: Get Customer by Email\n",
    "# ----------------------------\n",
    "@function_tool\n",
    "def get_customer_info(email: str):\n",
    "    \n",
    "    params = {\n",
    "        \"filterByFormula\": f\"{{Email}}='{email}'\",\n",
    "        \"maxRecords\": 1\n",
    "    }\n",
    "    response = requests.get(AIRTABLE_URL, headers=HEADERS, params=params)\n",
    "    response.raise_for_status()\n",
    "    data = response.json()\n",
    "    \n",
    "    if data.get(\"records\"):\n",
    "        return data[\"records\"][0]  # Return first matching record\n",
    "    else:\n",
    "        return None\n",
    "\n",
    "class FieldUpdate(BaseModel):\n",
    "    Name: Optional[str] = None\n",
    "    Email: Optional[str] = None\n",
    "    Phone: Optional[str] = None\n",
    "    Address: Optional[str] = None  # Add more fields as needed\n",
    "    # Example:\n",
    "    # Name: Optional[str] = None\n",
    "    # Email: Optional[str] = None\n",
    "\n",
    "@function_tool\n",
    "def update_customer_by_email(email: str, fields: FieldUpdate) -> dict:\n",
    "    \"\"\"\n",
    "    Look up a customer by email and update their information in the database.\n",
    "\n",
    "    Args:\n",
    "        email (str): Customer's email address.\n",
    "        fields (dict): Fields to update.\n",
    "\n",
    "    Returns:\n",
    "        dict: Result of the update or an error message.\n",
    "    \"\"\"\n",
    "    try:\n",
    "        # Step 1: Search for the record by email\n",
    "        search_url = f\"{AIRTABLE_URL}?filterByFormula=LOWER(Email)='{email.lower()}'\"\n",
    "        response = requests.get(search_url, headers=HEADERS)\n",
    "        response.raise_for_status()\n",
    "\n",
    "        records = response.json().get(\"records\", [])\n",
    "        if not records:\n",
    "            return {\n",
    "                \"status\": \"not_found\",\n",
    "                \"message\": f\"No customer found with email: {email}. Please verify and try again or contact support.\"\n",
    "            }\n",
    "\n",
    "        # Step 2: Extract the record ID\n",
    "        record_id = records[0][\"id\"]\n",
    "\n",
    "        # Step 3: Update the customer record\n",
    "        update_url = f\"{AIRTABLE_URL}/{record_id}\"\n",
    "        payload = {\"fields\": fields.dict(exclude_none=True)}\n",
    "        update_response = requests.patch(update_url, headers=HEADERS, json=payload)\n",
    "        update_response.raise_for_status()\n",
    "\n",
    "        updated_fields = update_response.json().get(\"fields\", {})\n",
    "        return {\n",
    "            \"status\": \"success\",\n",
    "            \"message\": \"Customer record updated successfully.\",\n",
    "            \"updated_fields\": updated_fields\n",
    "        }\n",
    "\n",
    "    except requests.exceptions.HTTPError:\n",
    "        return {\n",
    "            \"status\": \"error\",\n",
    "            \"message\": \"A problem occurred while accessing the database. Please try again or escalate.\"\n",
    "        }\n"
   ]
  },
  {
   "cell_type": "code",
   "execution_count": 83,
   "id": "29970f19",
   "metadata": {},
   "outputs": [],
   "source": [
    "\n",
    "\n",
    "\n",
    "intent_agent= Agent(name=\"Intent Classifier Agent\", instructions= intent_classifier_instructions, model= \"gpt-4o-mini\", tools= [escalate_to_human, get_customer_info, update_customer_by_email])\n",
    "\n",
    "\n",
    "\n"
   ]
  },
  {
   "cell_type": "code",
   "execution_count": null,
   "id": "097114be",
   "metadata": {},
   "outputs": [
    {
     "name": "stderr",
     "output_type": "stream",
     "text": [
      "/root/Musketeerly/customer_service_agent/.venv/lib/python3.13/site-packages/gradio/chat_interface.py:345: UserWarning: The 'tuples' format for chatbot messages is deprecated and will be removed in a future version of Gradio. Please set type='messages' instead, which uses openai-style 'role' and 'content' keys.\n",
      "  self.chatbot = Chatbot(\n"
     ]
    },
    {
     "name": "stdout",
     "output_type": "stream",
     "text": [
      "* Running on local URL:  http://127.0.0.1:7870\n",
      "* To create a public link, set `share=True` in `launch()`.\n"
     ]
    },
    {
     "data": {
      "text/html": [
       "<div><iframe src=\"http://127.0.0.1:7870/\" width=\"100%\" height=\"500\" allow=\"autoplay; camera; microphone; clipboard-read; clipboard-write;\" frameborder=\"0\" allowfullscreen></iframe></div>"
      ],
      "text/plain": [
       "<IPython.core.display.HTML object>"
      ]
     },
     "metadata": {},
     "output_type": "display_data"
    },
    {
     "data": {
      "text/plain": []
     },
     "execution_count": 84,
     "metadata": {},
     "output_type": "execute_result"
    },
    {
     "name": "stderr",
     "output_type": "stream",
     "text": [
      "/tmp/ipykernel_1377/2592881882.py:66: PydanticDeprecatedSince20: The `dict` method is deprecated; use `model_dump` instead. Deprecated in Pydantic V2.0 to be removed in V3.0. See Pydantic V2 Migration Guide at https://errors.pydantic.dev/2.11/migration/\n",
      "  payload = {\"fields\": fields.dict(exclude_none=True)}\n",
      "/tmp/ipykernel_1377/2592881882.py:66: PydanticDeprecatedSince20: The `dict` method is deprecated; use `model_dump` instead. Deprecated in Pydantic V2.0 to be removed in V3.0. See Pydantic V2 Migration Guide at https://errors.pydantic.dev/2.11/migration/\n",
      "  payload = {\"fields\": fields.dict(exclude_none=True)}\n",
      "/tmp/ipykernel_1377/2592881882.py:66: PydanticDeprecatedSince20: The `dict` method is deprecated; use `model_dump` instead. Deprecated in Pydantic V2.0 to be removed in V3.0. See Pydantic V2 Migration Guide at https://errors.pydantic.dev/2.11/migration/\n",
      "  payload = {\"fields\": fields.dict(exclude_none=True)}\n"
     ]
    }
   ],
   "source": [
    "async def chat(message, history):\n",
    "    with trace(\"Musketeerly\"):\n",
    "        response = await Runner.run(intent_agent, message, session=session)\n",
    "        return response.final_output\n",
    "gr.ChatInterface(chat).launch()\n",
    "\n",
    "\n",
    "\n",
    "\n",
    "\n"
   ]
  },
  {
   "cell_type": "code",
   "execution_count": null,
   "id": "423b44c0",
   "metadata": {},
   "outputs": [],
   "source": []
  },
  {
   "cell_type": "code",
   "execution_count": null,
   "id": "1b57e421",
   "metadata": {},
   "outputs": [],
   "source": []
  }
 ],
 "metadata": {
  "kernelspec": {
   "display_name": ".venv",
   "language": "python",
   "name": "python3"
  },
  "language_info": {
   "codemirror_mode": {
    "name": "ipython",
    "version": 3
   },
   "file_extension": ".py",
   "mimetype": "text/x-python",
   "name": "python",
   "nbconvert_exporter": "python",
   "pygments_lexer": "ipython3",
   "version": "3.13.5"
  }
 },
 "nbformat": 4,
 "nbformat_minor": 5
}
