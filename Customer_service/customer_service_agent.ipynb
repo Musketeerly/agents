{
 "cells": [
  {
   "cell_type": "code",
   "execution_count": null,
   "id": "12e0724f",
   "metadata": {},
   "outputs": [],
   "source": [
    "from dotenv import load_dotenv\n",
    "from agents import Agent, Runner, trace, SQLiteSession, function_tool\n",
    "import os\n",
    "from pypdf import PdfReader\n",
    "import gradio as gr\n",
    "import requests\n",
<<<<<<< HEAD
    "from typing import Dict\n",
    "\n",
    "load_dotenv(override=True)"
=======
    "import agentops\n",
    "from pydantic import BaseModel\n",
    "from typing import Optional\n",
    "\n",
    "# Initialize with automatic trace creation (default)\n",
    "load_dotenv(override=True)\n",
    "agentops_api_key = os.getenv(\"AGENTOPS_API_KEY\")\n",
    "\n",
    "agentops.init(api_key=agentops_api_key, default_tags=[\"production\"])"
>>>>>>> dd79878da9a6a6273c40b5f8b8195a00a773aa27
   ]
  },
  {
   "cell_type": "code",
   "execution_count": null,
   "id": "aa347008",
   "metadata": {},
   "outputs": [],
   "source": [
<<<<<<< HEAD
    "session = SQLiteSession(\"user_123\", \"conversation.db\")"
=======
    "session = SQLiteSession(\"user_123\", \"conversation.db\")\n",
    "await session.clear_session()"
>>>>>>> dd79878da9a6a6273c40b5f8b8195a00a773aa27
   ]
  },
  {
   "cell_type": "code",
   "execution_count": null,
   "id": "99b6a29e",
   "metadata": {},
   "outputs": [],
   "source": [
    "kb=\"\"\n",
    "reader= PdfReader(\"musketeerly_ai_knowledge_base.pdf\")\n",
    "for page in reader.pages:\n",
    "    kb +=page.extract_text()\n",
    "    "
   ]
  },
  {
   "cell_type": "code",
   "execution_count": null,
   "id": "c8b0d87c",
   "metadata": {},
   "outputs": [],
   "source": []
  },
  {
   "cell_type": "code",
   "execution_count": 60,
   "id": "6191df69",
   "metadata": {},
   "outputs": [],
   "source": [
    "company_name= \"Musketeerly AI\"\n",
    "intent_classifier_instructions = f\"\"\"\n",
<<<<<<< HEAD
    "You are a classification agent for Musketeerly AI. Your task is to analyze customer messages and determine:\n",
=======
    "You are a classification agent for Musketeerly AI. Your task is to analyze customer message and answer according to the knowledge base and only withing the scope of the knowledge base\n",
    "You have the ability to update customer information, get customer informstion and return it to them and escalate requests as well\n",
    "Your Tools and how and when to use them: (This does not apply sequentially, follow them as they apply instead)\n",
    "1) You must make use the escalate_to_human tool only when it involves an order cancellation or a refund, an order id only is needed for order cancellation while an email and reason is needed for a refund(you must include the users email in the push notification, you must not send the push notification if the email cant be found in the database).\n",
    "2) You must make use of the get_customer_info tool when the customer asks for retrieval of information from the database, email only is needed for this,If an email cant be found on the database, you must tell the user it cant be found and suggest they double check or contact the company support email, You must only return a users information when they ask for it,if they provide a mail and do not specify what it is for then do not retrieve any information, ask for the purpose instead.\n",
    "3) You must make use the update_customer_by_email tool when the customer wants to update their information, an email as well as the field and the value changes they want to be made to the must be required to make changes, example: 'I want to update my account name(field) to Kage first (Name field Value), my email is john@example.com(email needed for record identification).\n",
    "Follow these rules while you operate:\n",
    "-for the sake of safety, you must only return user information when the user explicitly states that they want to retrieve their information. If the user inputsn email withoout asking you explicitly to retrieve their information in their last text or in the same sentence do not retrieve it, ask a question instead to find out the purpose of the email.\n",
    "-order id should only be used for cancellations and never for refunds\n",
    "-Except the user has provided their email and reason in the last 5 texts always ask for the email and reason when requesting a refund\n",
    "- never try to initiate a refund using email and reason from memory\n",
    "- never use the customer id for a refund\n",
    "- if a user provides an email only and requests for a refund, you must ask for the reason.\n",
    "- Each time a request for information retrieval is made, you must use the get_customer_information tool, you must never retrieve the information from your memory\n",
    "- When an a request to update information is made you must use the update_customer_by email tool and never the get_customer_info tool\n",
    "Knowledge Base: {kb}\"\"\"\n",
>>>>>>> dd79878da9a6a6273c40b5f8b8195a00a773aa27
    "\n",
    "    The user’s intent.\n",
    "    Whether escalation to a human agent is required or to hand off to the support agent. You hand off to the support agent when the intent of the message is within the capabilities of the support agent, otherwise handoff to the escalation agent\n",
    "\n",
    "Follow these instructions:\n",
    "\n",
    "    Do not resolve issues yourself. Your sole responsibility is to route messages accurately.\n",
    "    If asked about unrelated topics to the knowledge base, inform the customer that we do not offer such services and list the services we provide from the knowledge base.\n",
    "\n",
<<<<<<< HEAD
    "\n",
    "Possible intents include:\n",
    "\n",
    "    “get_customer_info”\n",
    "    “ask_question”\n",
    "    “request_refund”\n",
    "    “cancel_order”\n",
    "    “legal_complaint”\n",
    "    “unknown”\n",
    "You will judge whether to rout to the support agent or the escalation agent\n",
    "Escalate when:\n",
    "\n",
    "    The user appears angry, frustrated, or the issue is urgent.\n",
    "    Refund, cancellation, or legal issues are mentioned.\n",
    "    Intent is unclear.\n",
    "\n",
    "Do not ask for clarification or perform tool actions. Your sole role is routing requests accurately.\n",
    "\n",
    "Knowledge Base: {kb}\"\"\"\n",
    "support_instructions = f\"\"\"\n",
    "You are a customer support agent for Musketeerly AI.\n",
    "you are a support agent that retrieves customer information from the database and display it to them using the email. you require the email to use the tool which retrieves the information. If the email provided by the customer does not exist in the database, inform the customer and inquire if their sure of the information provided or they can consider creating a new account. Do not suggest a new conversation after this\"\n",
    "\n",
    "Tools available:\n",
    "\n",
    "    get_customer_info(email)\n",
    "\n",
    "Redirect account creation to the signup page by giving the steps in accordance to the knowledge base.\n",
    "\n",
    "In case you cannot resolve an issue (e.g., refund, cancellation, legal request, angry customer), handoff to the escalation agent\n",
    "\n",
    "\n",
    "Knowledge Base:\n",
    "\n",
    "{kb}\n",
    "\n",
    "\"\"\"\n",
    "escalation_instructions = f\"\"\"\n",
    "You are the escalation agent for Musketeerly AI. Handle sensitive cases by involving a human support agent.\n",
    "If the issue is a cancellation or refund, You are to ask for a short summary of the issue and the customers id once and never again ,then send a push notification containing the a crafted message based on the issue and the customers id immediately without further interaction.\n",
    "But if the issue is anger related you are to drop a word to placate t he customer while sending the support email, end the conversation after that\n",
    "After sending the push notification, Reassure the customer:\n",
    "> “I’ve escalated this to a human support agent who will get back to you shortly.”\n",
    "and end the conversation by thanking the customer for their patience. Do not engage further or attempt to resolve the issue yourself.\n",
    "\"\"\"\n"
=======
    "\n"
>>>>>>> dd79878da9a6a6273c40b5f8b8195a00a773aa27
   ]
  },
  {
   "cell_type": "code",
   "execution_count": 56,
   "id": "de1676e7",
   "metadata": {},
   "outputs": [],
   "source": [
    "pushover_user = os.getenv(\"PUSHOVER_USER\")\n",
    "pushover_token = os.getenv(\"PUSHOVER_TOKEN\")\n",
    "pushover_url = \"https://api.pushover.net/1/messages.json\"\n",
    "\n",
    "airtable_token= os.getenv(\"AIRTABLE_TOKEN\")\n",
    "table_name= os.getenv(\"TABLE_NAME\")\n",
    "base_id= os.getenv(\"BASE_ID\")\n",
    "\n",
    "AIRTABLE_URL = f\"https://api.airtable.com/v0/{base_id}/{table_name}\"\n",
    "HEADERS = {\n",
    "    \"Authorization\": f\"Bearer {airtable_token}\",\n",
    "    \"Content-Type\": \"application/json\"\n",
    "}\n"
   ]
  },
  {
   "cell_type": "code",
   "execution_count": 57,
   "id": "1e8d5e7e",
   "metadata": {},
   "outputs": [],
   "source": [
    "@function_tool\n",
    "def escalate_to_human(issue_summary:str):\n",
<<<<<<< HEAD
    "    \"\"\"Sends a Push Notification For escalation of issues. Must require a customer id to be included in the message\"\"\"\n",
=======
    "    \"\"\"Sends a Push Notification For escalation of issues.\"\"\"\n",
>>>>>>> dd79878da9a6a6273c40b5f8b8195a00a773aa27
    "    payload = {\"user\": pushover_user, \"token\": pushover_token, \"message\": issue_summary}\n",
    "    requests.post(pushover_url, data=payload)\n",
    "\n",
    "\n",
    "\n",
    "# Tool 1: Get Customer by Email\n",
    "# ----------------------------\n",
    "@function_tool\n",
    "def get_customer_info(email: str):\n",
    "    \n",
    "    params = {\n",
    "        \"filterByFormula\": f\"{{Email}}='{email}'\",\n",
    "        \"maxRecords\": 1\n",
    "    }\n",
    "    response = requests.get(AIRTABLE_URL, headers=HEADERS, params=params)\n",
    "    response.raise_for_status()\n",
    "    data = response.json()\n",
    "    \n",
    "    if data.get(\"records\"):\n",
    "        return data[\"records\"][0]  # Return first matching record\n",
    "    else:\n",
    "        return None\n",
<<<<<<< HEAD
=======
    "\n",
    "class FieldUpdate(BaseModel):\n",
    "    Name: Optional[str] = None\n",
    "    Email: Optional[str] = None\n",
    "    Phone: Optional[str] = None\n",
    "    Address: Optional[str] = None  # Add more fields as needed\n",
    "    # Example:\n",
    "    # Name: Optional[str] = None\n",
    "    # Email: Optional[str] = None\n",
    "\n",
    "@function_tool\n",
    "def update_customer_by_email(email: str, fields: FieldUpdate) -> dict:\n",
    "    \"\"\"\n",
    "    Look up a customer by email and update their information in the database.\n",
>>>>>>> dd79878da9a6a6273c40b5f8b8195a00a773aa27
    "\n",
    "    Args:\n",
    "        email (str): Customer's email address.\n",
    "        fields (dict): Fields to update.\n",
    "\n",
    "    Returns:\n",
    "        dict: Result of the update or an error message.\n",
    "    \"\"\"\n",
    "    try:\n",
    "        # Step 1: Search for the record by email\n",
    "        search_url = f\"{AIRTABLE_URL}?filterByFormula=LOWER(Email)='{email.lower()}'\"\n",
    "        response = requests.get(search_url, headers=HEADERS)\n",
    "        response.raise_for_status()\n",
    "\n",
    "        records = response.json().get(\"records\", [])\n",
    "        if not records:\n",
    "            return {\n",
    "                \"status\": \"not_found\",\n",
    "                \"message\": f\"No customer found with email: {email}. Please verify and try again or contact support.\"\n",
    "            }\n",
    "\n",
    "        # Step 2: Extract the record ID\n",
    "        record_id = records[0][\"id\"]\n",
    "\n",
    "        # Step 3: Update the customer record\n",
    "        update_url = f\"{AIRTABLE_URL}/{record_id}\"\n",
    "        payload = {\"fields\": fields.dict(exclude_none=True)}\n",
    "        update_response = requests.patch(update_url, headers=HEADERS, json=payload)\n",
    "        update_response.raise_for_status()\n",
    "\n",
    "        updated_fields = update_response.json().get(\"fields\", {})\n",
    "        return {\n",
    "            \"status\": \"success\",\n",
    "            \"message\": \"Customer record updated successfully.\",\n",
    "            \"updated_fields\": updated_fields\n",
    "        }\n",
    "\n",
    "    except requests.exceptions.HTTPError:\n",
    "        return {\n",
    "            \"status\": \"error\",\n",
    "            \"message\": \"A problem occurred while accessing the database. Please try again or escalate.\"\n",
    "        }\n"
   ]
  },
  {
   "cell_type": "code",
   "execution_count": 58,
   "id": "29970f19",
   "metadata": {},
   "outputs": [],
   "source": [
<<<<<<< HEAD
    "escalation_agent = Agent(name=\"Escalation Agent\", instructions = escalation_instructions, model= \"gpt-4o-mini\", tools = [escalate_to_human], handoff_description=f\"\"\"You are the Escalation Agent for {company_name}. You handle situations that require human involvement or sensitive support cases such as refunds, cancellations, legal complaints, or very frustrated customers.\n",
    "\n",
    "You will receive escalated cases from the Support Agent or the intent agent. Your job is to escalate the issue to the human agent\n",
    "\n",
    "\"\"\")\n",
    "\n",
    "support_agent= Agent(name=\"Support Agent\", instructions= support_instructions, model= \"gpt-4o-mini\", tools=[get_customer_info],handoffs=[escalation_agent], handoff_description=f\"\"\"You are the Support Agent for customer service at {company_name}. Your responsibility is to resolve routine customer issues using available tools.\n",
    "\n",
    "You can independently handle the following types of requests:\n",
    "- Answering frequently asked questions using the knowledge base\n",
    "- Updating customer account information such as address, phone, or email\n",
    "- retrieving customer account information\n",
    "\n",
    "Tools available to you:\n",
    "- update_customer_info(email, field, value). email must be needed\n",
    "- get_customer_info(email). email must is needed\n",
    "\n",
    "\"\"\")\n",
    "\n",
    "\n",
    "intent_agent= Agent(name=\"Intent Classifier Agent\", instructions= intent_classifier_instructions, model= \"gpt-4o-mini\", handoffs=[support_agent, escalation_agent])\n",
=======
    "\n",
    "\n",
    "\n",
    "intent_agent= Agent(name=\"Intent Classifier Agent\", instructions= intent_classifier_instructions, model= \"gpt-4o-mini\", tools= [escalate_to_human, get_customer_info, update_customer_by_email])\n",
>>>>>>> dd79878da9a6a6273c40b5f8b8195a00a773aa27
    "\n",
    "\n",
    "\n"
   ]
  },
  {
   "cell_type": "code",
<<<<<<< HEAD
   "execution_count": 61,
=======
   "execution_count": null,
>>>>>>> dd79878da9a6a6273c40b5f8b8195a00a773aa27
   "id": "097114be",
   "metadata": {},
   "outputs": [
    {
     "name": "stderr",
     "output_type": "stream",
     "text": [
      "c:\\Users\\USER\\Musketeerly\\.venv\\Lib\\site-packages\\gradio\\chat_interface.py:345: UserWarning: The 'tuples' format for chatbot messages is deprecated and will be removed in a future version of Gradio. Please set type='messages' instead, which uses openai-style 'role' and 'content' keys.\n",
      "  self.chatbot = Chatbot(\n"
     ]
    },
    {
     "name": "stdout",
     "output_type": "stream",
     "text": [
      "* Running on local URL:  http://127.0.0.1:7873\n",
      "* To create a public link, set `share=True` in `launch()`.\n"
     ]
    },
    {
     "data": {
      "text/html": [
       "<div><iframe src=\"http://127.0.0.1:7873/\" width=\"100%\" height=\"500\" allow=\"autoplay; camera; microphone; clipboard-read; clipboard-write;\" frameborder=\"0\" allowfullscreen></iframe></div>"
      ],
      "text/plain": [
       "<IPython.core.display.HTML object>"
      ]
     },
     "metadata": {},
     "output_type": "display_data"
    },
    {
     "data": {
      "text/plain": []
     },
     "execution_count": 61,
     "metadata": {},
     "output_type": "execute_result"
    }
   ],
   "source": [
    "async def chat(message, history):\n",
    "    with trace(\"Musketeerly\"):\n",
    "        response = await Runner.run(intent_agent, message, session=session)\n",
    "        return response.final_output\n",
    "gr.ChatInterface(chat).launch()\n",
    "\n",
    "\n",
    "\n",
    "\n",
    "\n"
   ]
  },
  {
   "cell_type": "code",
   "execution_count": null,
<<<<<<< HEAD
   "id": "a963fbca",
   "metadata": {},
   "outputs": [],
   "source": []
=======
   "id": "423b44c0",
   "metadata": {},
   "outputs": [],
   "source": []
  },
  {
   "cell_type": "code",
   "execution_count": null,
   "id": "1b57e421",
   "metadata": {},
   "outputs": [],
   "source": []
>>>>>>> dd79878da9a6a6273c40b5f8b8195a00a773aa27
  }
 ],
 "metadata": {
  "kernelspec": {
   "display_name": ".venv",
   "language": "python",
   "name": "python3"
  },
  "language_info": {
   "codemirror_mode": {
    "name": "ipython",
    "version": 3
   },
   "file_extension": ".py",
   "mimetype": "text/x-python",
   "name": "python",
   "nbconvert_exporter": "python",
   "pygments_lexer": "ipython3",
   "version": "3.13.5"
  }
 },
 "nbformat": 4,
 "nbformat_minor": 5
}
