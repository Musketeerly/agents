{
 "cells": [
  {
   "cell_type": "code",
   "execution_count": null,
   "id": "12e0724f",
   "metadata": {},
   "outputs": [],
   "source": [
    "from dotenv import load_dotenv\n",
    "from agents import Agent, Runner, trace, SQLiteSession, function_tool\n",
    "import os\n",
    "from pypdf import PdfReader\n",
    "import gradio as gr\n",
    "import json\n",
    "import requests\n",
    "from typing import Dict\n",
    "\n",
    "load_dotenv(override=True)"
   ]
  },
  {
   "cell_type": "code",
   "execution_count": null,
   "id": "aa347008",
   "metadata": {},
   "outputs": [],
   "source": [
    "session = SQLiteSession(\"user_123\", \"conversation.db\")"
   ]
  },
  {
   "cell_type": "code",
   "execution_count": null,
   "id": "99b6a29e",
   "metadata": {},
   "outputs": [],
   "source": [
    "kb=\"\"\n",
    "reader= PdfReader(\"knowledgebase/Musketeerly_AI_Knowledge_Base.pdf\")\n",
    "for page in reader.pages:\n",
    "    kb +=page.extract_text()\n",
    "    "
   ]
  },
  {
   "cell_type": "code",
   "execution_count": null,
   "id": "c8b0d87c",
   "metadata": {},
   "outputs": [],
   "source": []
  },
  {
   "cell_type": "code",
   "execution_count": 60,
   "id": "6191df69",
   "metadata": {},
   "outputs": [],
   "source": [
    "company_name= \"Musketeerly AI\"\n",
    "intent_classifier_instructions = f\"\"\"\n",
    "You are a classification agent for Musketeerly AI. Your task is to analyze customer messages and determine:\n",
    "\n",
    "    The user’s intent.\n",
    "    Whether escalation to a human agent is required or to hand off to the support agent. You hand off to the support agent when the intent of the message is within the capabilities of the support agent, otherwise handoff to the escalation agent\n",
    "\n",
    "Follow these instructions:\n",
    "\n",
    "    Do not resolve issues yourself. Your sole responsibility is to route messages accurately.\n",
    "    If asked about unrelated topics to the knowledge base, inform the customer that we do not offer such services and list the services we provide from the knowledge base.\n",
    "\n",
    "\n",
    "Possible intents include:\n",
    "\n",
    "    “get_customer_info”\n",
    "    “ask_question”\n",
    "    “request_refund”\n",
    "    “cancel_order”\n",
    "    “legal_complaint”\n",
    "    “unknown”\n",
    "You will judge whether to rout to the support agent or the escalation agent\n",
    "Escalate when:\n",
    "\n",
    "    The user appears angry, frustrated, or the issue is urgent.\n",
    "    Refund, cancellation, or legal issues are mentioned.\n",
    "    Intent is unclear.\n",
    "\n",
    "Do not ask for clarification or perform tool actions. Your sole role is routing requests accurately.\n",
    "\n",
    "Knowledge Base: {kb}\"\"\"\n",
    "support_instructions = f\"\"\"\n",
    "You are a customer support agent for Musketeerly AI.\n",
    "you are a support agent that retrieves customer information from the database and display it to them using the email. you require the email to use the tool which retrieves the information. If the email provided by the customer does not exist in the database, inform the customer and inquire if their sure of the information provided or they can consider creating a new account. Do not suggest a new conversation after this\"\n",
    "\n",
    "Tools available:\n",
    "\n",
    "    get_customer_info(email)\n",
    "\n",
    "Redirect account creation to the signup page by giving the steps in accordance to the knowledge base.\n",
    "\n",
    "In case you cannot resolve an issue (e.g., refund, cancellation, legal request, angry customer), handoff to the escalation agent\n",
    "\n",
    "\n",
    "Knowledge Base:\n",
    "\n",
    "{kb}\n",
    "\n",
    "\"\"\"\n",
    "escalation_instructions = f\"\"\"\n",
    "You are the escalation agent for Musketeerly AI. Handle sensitive cases by involving a human support agent.\n",
    "If the issue is a cancellation or refund, You are to ask for a short summary of the issue and the customers id once and never again ,then send a push notification containing the a crafted message based on the issue and the customers id immediately without further interaction.\n",
    "But if the issue is anger related you are to drop a word to placate t he customer while sending the support email, end the conversation after that\n",
    "After sending the push notification, Reassure the customer:\n",
    "> “I’ve escalated this to a human support agent who will get back to you shortly.”\n",
    "and end the conversation by thanking the customer for their patience. Do not engage further or attempt to resolve the issue yourself.\n",
    "\"\"\"\n"
   ]
  },
  {
   "cell_type": "code",
   "execution_count": 56,
   "id": "de1676e7",
   "metadata": {},
   "outputs": [],
   "source": [
    "pushover_user = os.getenv(\"PUSHOVER_USER\")\n",
    "pushover_token = os.getenv(\"PUSHOVER_TOKEN\")\n",
    "pushover_url = \"https://api.pushover.net/1/messages.json\"\n",
    "\n",
    "airtable_token= os.getenv(\"AIRTABLE_TOKEN\")\n",
    "table_name= os.getenv(\"TABLE_NAME\")\n",
    "base_id= os.getenv(\"BASE_ID\")\n",
    "\n",
    "AIRTABLE_URL = f\"https://api.airtable.com/v0/{base_id}/{table_name}\"\n",
    "HEADERS = {\n",
    "    \"Authorization\": f\"Bearer {airtable_token}\",\n",
    "    \"Content-Type\": \"application/json\"\n",
    "}\n"
   ]
  },
  {
   "cell_type": "code",
   "execution_count": 57,
   "id": "1e8d5e7e",
   "metadata": {},
   "outputs": [],
   "source": [
    "@function_tool\n",
    "def escalate_to_human(issue_summary:str):\n",
    "    \"\"\"Sends a Push Notification For escalation of issues. Must require a customer id to be included in the message\"\"\"\n",
    "    payload = {\"user\": pushover_user, \"token\": pushover_token, \"message\": issue_summary}\n",
    "    requests.post(pushover_url, data=payload)\n",
    "\n",
    "\n",
    "\n",
    "# Tool 1: Get Customer by Email\n",
    "# ----------------------------\n",
    "@function_tool\n",
    "def get_customer_info(email: str):\n",
    "    \n",
    "    params = {\n",
    "        \"filterByFormula\": f\"{{Email}}='{email}'\",\n",
    "        \"maxRecords\": 1\n",
    "    }\n",
    "    response = requests.get(AIRTABLE_URL, headers=HEADERS, params=params)\n",
    "    response.raise_for_status()\n",
    "    data = response.json()\n",
    "    \n",
    "    if data.get(\"records\"):\n",
    "        return data[\"records\"][0]  # Return first matching record\n",
    "    else:\n",
    "        return None\n",
    "\n",
    "\n"
   ]
  },
  {
   "cell_type": "code",
   "execution_count": 58,
   "id": "29970f19",
   "metadata": {},
   "outputs": [],
   "source": [
    "escalation_agent = Agent(name=\"Escalation Agent\", instructions = escalation_instructions, model= \"gpt-4o-mini\", tools = [escalate_to_human], handoff_description=f\"\"\"You are the Escalation Agent for {company_name}. You handle situations that require human involvement or sensitive support cases such as refunds, cancellations, legal complaints, or very frustrated customers.\n",
    "\n",
    "You will receive escalated cases from the Support Agent or the intent agent. Your job is to escalate the issue to the human agent\n",
    "\n",
    "\"\"\")\n",
    "\n",
    "support_agent= Agent(name=\"Support Agent\", instructions= support_instructions, model= \"gpt-4o-mini\", tools=[get_customer_info],handoffs=[escalation_agent], handoff_description=f\"\"\"You are the Support Agent for customer service at {company_name}. Your responsibility is to resolve routine customer issues using available tools.\n",
    "\n",
    "You can independently handle the following types of requests:\n",
    "- Answering frequently asked questions using the knowledge base\n",
    "- Updating customer account information such as address, phone, or email\n",
    "- retrieving customer account information\n",
    "\n",
    "Tools available to you:\n",
    "- update_customer_info(email, field, value). email must be needed\n",
    "- get_customer_info(email). email must is needed\n",
    "\n",
    "\"\"\")\n",
    "\n",
    "\n",
    "intent_agent= Agent(name=\"Intent Classifier Agent\", instructions= intent_classifier_instructions, model= \"gpt-4o-mini\", handoffs=[support_agent, escalation_agent])\n",
    "\n",
    "\n",
    "\n"
   ]
  },
  {
   "cell_type": "code",
   "execution_count": 61,
   "id": "097114be",
   "metadata": {},
   "outputs": [
    {
     "name": "stderr",
     "output_type": "stream",
     "text": [
      "c:\\Users\\USER\\Musketeerly\\.venv\\Lib\\site-packages\\gradio\\chat_interface.py:345: UserWarning: The 'tuples' format for chatbot messages is deprecated and will be removed in a future version of Gradio. Please set type='messages' instead, which uses openai-style 'role' and 'content' keys.\n",
      "  self.chatbot = Chatbot(\n"
     ]
    },
    {
     "name": "stdout",
     "output_type": "stream",
     "text": [
      "* Running on local URL:  http://127.0.0.1:7873\n",
      "* To create a public link, set `share=True` in `launch()`.\n"
     ]
    },
    {
     "data": {
      "text/html": [
       "<div><iframe src=\"http://127.0.0.1:7873/\" width=\"100%\" height=\"500\" allow=\"autoplay; camera; microphone; clipboard-read; clipboard-write;\" frameborder=\"0\" allowfullscreen></iframe></div>"
      ],
      "text/plain": [
       "<IPython.core.display.HTML object>"
      ]
     },
     "metadata": {},
     "output_type": "display_data"
    },
    {
     "data": {
      "text/plain": []
     },
     "execution_count": 61,
     "metadata": {},
     "output_type": "execute_result"
    }
   ],
   "source": [
    "async def chat(message, history):\n",
    "    with trace(\"Musketeerly\"):\n",
    "        response = await Runner.run(intent_agent, message, session=session)\n",
    "        return response.final_output\n",
    "gr.ChatInterface(chat).launch()\n",
    "\n",
    "\n",
    "\n",
    "\n",
    "\n"
   ]
  },
  {
   "cell_type": "code",
   "execution_count": null,
   "id": "a963fbca",
   "metadata": {},
   "outputs": [],
   "source": []
  }
 ],
 "metadata": {
  "kernelspec": {
   "display_name": ".venv",
   "language": "python",
   "name": "python3"
  },
  "language_info": {
   "codemirror_mode": {
    "name": "ipython",
    "version": 3
   },
   "file_extension": ".py",
   "mimetype": "text/x-python",
   "name": "python",
   "nbconvert_exporter": "python",
   "pygments_lexer": "ipython3",
   "version": "3.12.10"
  }
 },
 "nbformat": 4,
 "nbformat_minor": 5
}
